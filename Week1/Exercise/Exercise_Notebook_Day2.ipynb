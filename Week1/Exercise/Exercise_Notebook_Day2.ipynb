{
 "cells": [
  {
   "cell_type": "markdown",
   "metadata": {},
   "source": [
    "1) Write a program that calculates the lenght of a rectangle given its radius\n",
    "(formula : 2 * (l+b))"
   ]
  },
  {
   "cell_type": "code",
   "execution_count": null,
   "metadata": {},
   "outputs": [],
   "source": []
  },
  {
   "cell_type": "markdown",
   "metadata": {},
   "source": [
    "2) Write a function that prints the level of an employee.\n",
    "\n",
    "Requirement : The function call should take an integer and pass it to the function and print one of the following \n",
    "\n",
    "1. if the number passed is less than or equal to 4, print \"Novice\"\n",
    "2. if the number passed is greater than 4 and less than or equal to 7, print \"Intermediate\"\n",
    "3. if the number passed is greater than 7 and less than or equal to 10, print \"Advanced\"\n",
    "4. if the number passed is greater than 10, print \"Ninja\""
   ]
  },
  {
   "cell_type": "code",
   "execution_count": null,
   "metadata": {},
   "outputs": [],
   "source": []
  },
  {
   "cell_type": "markdown",
   "metadata": {},
   "source": [
    "3)Write a calculator function that performs the following Arithmetic when two numbers and an operator is passed<br>\n",
    "Operation<br>\n",
    "'add'  : Adds two numbers<br>\n",
    "'sub'  : subtracts two numbers<br>\n",
    "'mul'  : gives the product of two numbers<br>\n",
    "'div'  : divides the two numbers<br>"
   ]
  },
  {
   "cell_type": "code",
   "execution_count": null,
   "metadata": {},
   "outputs": [],
   "source": []
  },
  {
   "cell_type": "markdown",
   "metadata": {},
   "source": [
    "Write a program to prints the first ten even numbers, using a loop\n",
    "\n"
   ]
  },
  {
   "cell_type": "code",
   "execution_count": null,
   "metadata": {},
   "outputs": [],
   "source": []
  }
 ],
 "metadata": {
  "kernelspec": {
   "display_name": "Python 3",
   "language": "python",
   "name": "python3"
  },
  "language_info": {
   "codemirror_mode": {
    "name": "ipython",
    "version": 3
   },
   "file_extension": ".py",
   "mimetype": "text/x-python",
   "name": "python",
   "nbconvert_exporter": "python",
   "pygments_lexer": "ipython3",
   "version": "3.7.4"
  }
 },
 "nbformat": 4,
 "nbformat_minor": 2
}
